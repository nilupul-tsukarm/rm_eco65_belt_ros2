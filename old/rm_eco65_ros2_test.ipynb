{
 "cells": [
  {
   "cell_type": "markdown",
   "id": "3a7e0a08",
   "metadata": {},
   "source": [
    "check network connection of arm and PC   \n",
    "check belt arduino USB connection  >>>> '/dev/ttyACM0'\n",
    "check gripper USB connection  >>>>>>>  '/dev/ttyUSB0'\n",
    "\n",
    "jupyter-notebook script : /home/ubuntu/rm_eco65_ros2_test2.ipynb\n",
    "\n",
    "source /opt/ros/humble/setup.bash\n",
    "\n",
    "ros2 launch rm_driver rm_eco65_driver.launch.py\n",
    "\n",
    "ros2 topic list # if needed\n",
    "ros2 topic echo /rm_driver/udp_arm_position # for get pos XYZ and rotation XYZW if needed\n",
    "ros2 topic echo /joint_states  # for get joint values if needed\n",
    "\n",
    "ros2 launch belt_speed_publisher belt_speed.launch.py\n",
    "ros2 topic echo /belt_speed  # if needed"
   ]
  },
  {
   "cell_type": "code",
   "execution_count": 1,
   "id": "cf1ba82e",
   "metadata": {},
   "outputs": [],
   "source": [
    "# Import necessary libraries\n",
    "import rclpy\n",
    "from rclpy.node import Node\n",
    "from geometry_msgs.msg import Pose\n",
    "from rm_ros_interfaces.msg import Movel\n",
    "from std_msgs.msg import Bool\n",
    "from std_msgs.msg import Float32  \n",
    "from rclpy.executors import MultiThreadedExecutor\n",
    "import serial\n",
    "import time\n",
    "import struct"
   ]
  },
  {
   "cell_type": "code",
   "execution_count": 2,
   "id": "49c3c50c",
   "metadata": {},
   "outputs": [
    {
     "name": "stdout",
     "output_type": "stream",
     "text": [
      "Connection established successfully\n",
      "Initialization Response: b'\\x01\\x06\\x01\\x00\\x00\\x01I\\xf6'\n",
      "Reinitialization Response: b''\n",
      "Speed Response: b'\\x01\\x06\\x01\\x04\\x002H\"'\n"
     ]
    }
   ],
   "source": [
    "# Function to calculate CRC16\n",
    "def calculate_crc(data):\n",
    "    crc = 0xFFFF\n",
    "    for pos in data:\n",
    "        crc ^= pos\n",
    "        for _ in range(8):\n",
    "            if crc & 1:\n",
    "                crc >>= 1\n",
    "                crc ^= 0xA001\n",
    "            else:\n",
    "                crc >>= 1\n",
    "    return crc\n",
    "\n",
    "# Function to build the command with CRC\n",
    "def build_command(address, function, register, value):\n",
    "    command = struct.pack('>BBHH', address, function, register, value)\n",
    "    crc = calculate_crc(command)\n",
    "    command += struct.pack('<H', crc)\n",
    "    return command\n",
    "\n",
    "# Function to convert decimal to hexadecimal (with return as integer for struct)\n",
    "def decimal_to_hex(value):\n",
    "    if not isinstance(value, int):\n",
    "        raise ValueError(\"Input must be an integer\")\n",
    "    if value < 0 or value > 0xFFFF:\n",
    "        raise ValueError(\"Input must be between 0 and 65535\")\n",
    "    return value\n",
    "\n",
    "# Serial configuration\n",
    "ser = serial.Serial(\n",
    "    port='/dev/ttyUSB0',\n",
    "    baudrate=115200,\n",
    "    parity=serial.PARITY_NONE,\n",
    "    stopbits=serial.STOPBITS_ONE,\n",
    "    bytesize=serial.EIGHTBITS,\n",
    "    timeout=2\n",
    ")\n",
    "\n",
    "# Set position using decimal input\n",
    "def set_position(decimal_value):\n",
    "    hex_value = decimal_to_hex(decimal_value)\n",
    "    position_command = build_command(0x01, 0x06, 0x0103, hex_value)\n",
    "    ser.write(position_command)\n",
    "    response = ser.read(8)\n",
    "    print(f\"Position {decimal_value} Response:\", response)\n",
    "\n",
    "# Open the serial connection\n",
    "if ser.isOpen():\n",
    "    print(\"Connection established successfully\")\n",
    "else:\n",
    "    print(\"Failed to open serial connection\")\n",
    "    exit()\n",
    "\n",
    "# Initialization command\n",
    "initialize_command = b'\\x01\\x06\\x01\\x00\\x00\\x01\\x49\\xF6'\n",
    "reinitialize_command = b'\\x01\\x06\\x01\\x00\\x00\\x00\\xA5\\x48'\n",
    "\n",
    "# Send initialization command\n",
    "ser.write(initialize_command)\n",
    "response = ser.read(8)\n",
    "print(\"Initialization Response:\", response)\n",
    "time.sleep(1)\n",
    "\n",
    "# Send reinitialization command\n",
    "ser.write(reinitialize_command)\n",
    "response = ser.read(8)\n",
    "print(\"Reinitialization Response:\", response)\n",
    "\n",
    "time.sleep(1)\n",
    "\n",
    "# Speed command (example, may need adjustment depending on your needs)\n",
    "speed_command = build_command(0x01, 0x06, 0x0104, 0x0032)\n",
    "ser.write(speed_command)\n",
    "response = ser.read(8)\n",
    "print(\"Speed Response:\", response)"
   ]
  },
  {
   "cell_type": "code",
   "execution_count": 4,
   "id": "b47686b2",
   "metadata": {},
   "outputs": [],
   "source": [
    "class RobotArmController(Node):\n",
    "    def __init__(self):\n",
    "        super().__init__('robot_arm_controller')\n",
    "        \n",
    "        # Subscriber to read current position\n",
    "        self.subscription = self.create_subscription(\n",
    "            Pose,\n",
    "            '/rm_driver/udp_arm_position',\n",
    "            self.position_callback,\n",
    "            10\n",
    "        )\n",
    "        self.current_position = None\n",
    "\n",
    "        # Publisher to send linear motion commands\n",
    "        self.publisher = self.create_publisher(\n",
    "            Movel,\n",
    "            '/rm_driver/movel_cmd',\n",
    "            10\n",
    "        )\n",
    "\n",
    "    def position_callback(self, msg):\n",
    "        \"\"\"Callback to store the current position of the robot arm.\"\"\"\n",
    "        self.current_position = msg\n",
    "\n",
    "    def get_current_position(self):\n",
    "        \"\"\"Get the current position of the robot arm.\"\"\"\n",
    "        while self.current_position is None:\n",
    "            rclpy.spin_once(self)\n",
    "        return self.current_position\n",
    "\n",
    "    def send_linear_motion(self, pose, speed=20, block=True):\n",
    "        \"\"\"Send a linear motion command to the robot arm.\"\"\"\n",
    "        command = Movel()\n",
    "        command.pose = pose\n",
    "        command.speed = speed\n",
    "        command.block = block\n",
    "        self.publisher.publish(command)\n",
    "        self.get_logger().info(f\"Sent linear motion command to position: {pose.position}\")\n"
   ]
  },
  {
   "cell_type": "code",
   "execution_count": 5,
   "id": "8322baef",
   "metadata": {},
   "outputs": [],
   "source": [
    "class BeltSpeedSubscriber(Node):\n",
    "    def __init__(self):\n",
    "        super().__init__('belt_speed_subscriber')\n",
    "        \n",
    "        # Subscriber for belt speed\n",
    "        self.subscription = self.create_subscription(\n",
    "            Float32,\n",
    "            '/belt_speed',\n",
    "            self.belt_speed_callback,\n",
    "            10\n",
    "        )\n",
    "        self.belt_speed = None\n",
    "\n",
    "    def belt_speed_callback(self, msg):\n",
    "        \"\"\"Callback to store the current belt speed.\"\"\"\n",
    "        self.belt_speed = msg.data\n",
    "        self.get_logger().info(f\"Current belt speed: {self.belt_speed}\")\n",
    "\n",
    "    def get_belt_speed(self):\n",
    "        \"\"\"Retrieve the current belt speed.\"\"\"\n",
    "        return self.belt_speed\n"
   ]
  },
  {
   "cell_type": "code",
   "execution_count": 6,
   "id": "93bee20d",
   "metadata": {},
   "outputs": [
    {
     "name": "stdout",
     "output_type": "stream",
     "text": [
      "\u001b[37;1m2025-01-08 17:37:45.313 \u001b[31;1m[\u001b[37;1mRTPS_TRANSPORT_SHM\u001b[31;1m Error] \u001b[37mFailed init_port fastrtps_port7423: open_and_lock_file failed\u001b[34;1m -> Function \u001b[36mopen_port_internal\u001b[m\n",
      "\u001b[37;1m2025-01-08 17:37:45.314 \u001b[31;1m[\u001b[37;1mRTPS_TRANSPORT_SHM\u001b[31;1m Error] \u001b[37mFailed init_port fastrtps_port7433: open_and_lock_file failed\u001b[34;1m -> Function \u001b[36mopen_port_internal\u001b[m\n"
     ]
    }
   ],
   "source": [
    "# Main function to execute the script\n",
    "\n",
    "rclpy.init()\n",
    "\n",
    "# Create the robot arm controller node\n",
    "arm_controller = RobotArmController()\n",
    "belt_speed_subscriber = BeltSpeedSubscriber()\n",
    "\n"
   ]
  },
  {
   "cell_type": "code",
   "execution_count": 7,
   "id": "697be15e",
   "metadata": {},
   "outputs": [
    {
     "data": {
      "text/plain": [
       "True"
      ]
     },
     "execution_count": 7,
     "metadata": {},
     "output_type": "execute_result"
    }
   ],
   "source": [
    "# Use a MultiThreadedExecutor to run both nodes concurrently\n",
    "executor = MultiThreadedExecutor()\n",
    "executor.add_node(arm_controller)\n",
    "executor.add_node(belt_speed_subscriber)"
   ]
  },
  {
   "cell_type": "code",
   "execution_count": 8,
   "id": "0d8313e0",
   "metadata": {},
   "outputs": [
    {
     "name": "stdout",
     "output_type": "stream",
     "text": [
      "Current Belt Speed: 36.04999923706055\n"
     ]
    },
    {
     "name": "stderr",
     "output_type": "stream",
     "text": [
      "[INFO] [1736325471.349097600] [belt_speed_subscriber]: Current belt speed: 36.04999923706055\n"
     ]
    }
   ],
   "source": [
    "#while rclpy.ok():\n",
    "rclpy.spin_once(belt_speed_subscriber, timeout_sec=0.1)\n",
    "if belt_speed_subscriber.get_belt_speed() is not None:\n",
    "    print(f\"Current Belt Speed: {belt_speed_subscriber.get_belt_speed()}\")"
   ]
  },
  {
   "cell_type": "code",
   "execution_count": 9,
   "id": "07895036",
   "metadata": {},
   "outputs": [
    {
     "name": "stdout",
     "output_type": "stream",
     "text": [
      "geometry_msgs.msg.Pose(position=geometry_msgs.msg.Point(x=-0.3990910053253174, y=-0.048673998564481735, z=0.25128400325775146), orientation=geometry_msgs.msg.Quaternion(x=0.9998310208320618, y=-0.010114000178873539, z=0.012400000356137753, w=0.008949999697506428))\n"
     ]
    },
    {
     "data": {
      "text/plain": [
       "'print(\"Current Position:\")\\nprint(f\"x: {current_position.position.x}, y: {current_position.position.y}, z: {current_position.position.z}\")\\nprint(f\"Orientation - x: {current_position.orientation.x}, y: {current_position.orientation.y}, \"\\n        f\"z: {current_position.orientation.z}, w: {current_position.orientation.w}\")'"
      ]
     },
     "execution_count": 9,
     "metadata": {},
     "output_type": "execute_result"
    }
   ],
   "source": [
    "#try:\n",
    "    # Get the current position\n",
    "current_position = arm_controller.get_current_position()\n",
    "print(current_position)\n",
    "'''print(\"Current Position:\")\n",
    "print(f\"x: {current_position.position.x}, y: {current_position.position.y}, z: {current_position.position.z}\")\n",
    "print(f\"Orientation - x: {current_position.orientation.x}, y: {current_position.orientation.y}, \"\n",
    "        f\"z: {current_position.orientation.z}, w: {current_position.orientation.w}\")'''\n",
    "\n"
   ]
  },
  {
   "cell_type": "code",
   "execution_count": 10,
   "id": "a454f7ba",
   "metadata": {},
   "outputs": [
    {
     "name": "stdout",
     "output_type": "stream",
     "text": [
      "Position 1000 Response: b'\\x01\\x06\\x01\\x03\\x03\\xe8x\\x88'\n"
     ]
    }
   ],
   "source": [
    "set_position(1000) # open >>>>> 0(full close ) to 1000(full open)"
   ]
  },
  {
   "cell_type": "code",
   "execution_count": 11,
   "id": "909e35ae",
   "metadata": {},
   "outputs": [
    {
     "name": "stderr",
     "output_type": "stream",
     "text": [
      "[INFO] [1736325481.550744511] [robot_arm_controller]: Sent linear motion command to position: geometry_msgs.msg.Point(x=-0.2401369959115982, y=-0.04086500033736229, z=0.4443739950656891)\n"
     ]
    }
   ],
   "source": [
    "################ GO TO initial position ####################\n",
    "callib_pose = Pose()\n",
    "callib_pose.position.x = -0.2401369959115982\n",
    "callib_pose.position.y = -0.04086500033736229\n",
    "callib_pose.position.z = 0.4443739950656891\n",
    "# Define orientation correctly as a Quaternion\n",
    "#new_pose.orientation = Quaternion()\n",
    "callib_pose.orientation.x = 0.9998310208320618\n",
    "callib_pose.orientation.y = -0.010149000212550163\n",
    "callib_pose.orientation.z = 0.012520000338554382\n",
    "callib_pose.orientation.w = 0.00880299974232912\n",
    "    # Send the linear motion command\n",
    "arm_controller.send_linear_motion(callib_pose, speed=20, block=True)\n",
    "\n"
   ]
  },
  {
   "cell_type": "code",
   "execution_count": null,
   "id": "3674e296",
   "metadata": {},
   "outputs": [
    {
     "name": "stderr",
     "output_type": "stream",
     "text": [
      "[INFO] [1736325832.008871122] [robot_arm_controller]: Sent linear motion command to position: geometry_msgs.msg.Point(x=-0.4430799877643585, y=-0.048670001327991486, z=0.2012850046157837)\n"
     ]
    }
   ],
   "source": [
    "################ GO TO calibration position ####################\n",
    "callib_pose = Pose()\n",
    "callib_pose.position.x = -0.4330799877643585 - 0.01 ## = -0.4430799877643585\n",
    "callib_pose.position.y = -0.048670001327991486\n",
    "callib_pose.position.z = 0.2012850046157837 + 0.0\n",
    "# Define orientation correctly as a Quaternion\n",
    "#new_pose.orientation = Quaternion()\n",
    "callib_pose.orientation.x = 0.9998310208320618\n",
    "callib_pose.orientation.y = -0.010149000212550163\n",
    "callib_pose.orientation.z = 0.012520000338554382\n",
    "callib_pose.orientation.w = 0.00880299974232912\n",
    "    # Send the linear motion command\n",
    "arm_controller.send_linear_motion(callib_pose, speed=20, block=True)\n",
    "\n"
   ]
  },
  {
   "cell_type": "code",
   "execution_count": 12,
   "id": "bd478c4d",
   "metadata": {},
   "outputs": [
    {
     "name": "stderr",
     "output_type": "stream",
     "text": [
      "[INFO] [1736325492.636038128] [robot_arm_controller]: Sent linear motion command to position: geometry_msgs.msg.Point(x=-0.3990799877643585, y=-0.048670001327991486, z=0.2112850046157837)\n"
     ]
    }
   ],
   "source": [
    "################ GO TO mid belt position ####################\n",
    "callib_pose = Pose()\n",
    "callib_pose.position.x = -0.4330799877643585 + 0.034\n",
    "callib_pose.position.y = -0.048670001327991486\n",
    "callib_pose.position.z = 0.2012850046157837 + 0.01\n",
    "# Define orientation correctly as a Quaternion\n",
    "#new_pose.orientation = Quaternion()\n",
    "callib_pose.orientation.x = 0.9998310208320618\n",
    "callib_pose.orientation.y = -0.010149000212550163\n",
    "callib_pose.orientation.z = 0.012520000338554382\n",
    "callib_pose.orientation.w = 0.00880299974232912\n",
    "    # Send the linear motion command\n",
    "arm_controller.send_linear_motion(callib_pose, speed=90, block=True)\n",
    "\n"
   ]
  },
  {
   "cell_type": "code",
   "execution_count": 13,
   "id": "82a8516a",
   "metadata": {},
   "outputs": [
    {
     "name": "stdout",
     "output_type": "stream",
     "text": [
      "Position 200 Response: b'\\x01\\x06\\x01\\x03\\x00\\xc8y\\xa0'\n"
     ]
    }
   ],
   "source": [
    "set_position(200) # close 0(full close ) to 1000(full open)"
   ]
  },
  {
   "cell_type": "code",
   "execution_count": 17,
   "id": "5d1dd2ff",
   "metadata": {},
   "outputs": [
    {
     "name": "stderr",
     "output_type": "stream",
     "text": [
      "[INFO] [1736314408.991115833] [robot_arm_controller]: Sent linear motion command to position: geometry_msgs.msg.Point(x=-0.3990799877643585, y=-0.048670001327991486, z=0.2512850046157837)\n"
     ]
    }
   ],
   "source": [
    "################ GO up from mid belt position ####################\n",
    "callib_pose = Pose()\n",
    "callib_pose.position.x = -0.4330799877643585 + 0.034\n",
    "callib_pose.position.y = -0.048670001327991486\n",
    "callib_pose.position.z = 0.2012850046157837  + 0.05\n",
    "# Define orientation correctly as a Quaternion\n",
    "#new_pose.orientation = Quaternion()\n",
    "callib_pose.orientation.x = 0.9998310208320618\n",
    "callib_pose.orientation.y = -0.010149000212550163\n",
    "callib_pose.orientation.z = 0.012520000338554382\n",
    "callib_pose.orientation.w = 0.00880299974232912\n",
    "\n",
    "# Send the linear motion command\n",
    "arm_controller.send_linear_motion(callib_pose, speed=100, block=True)\n",
    "\n"
   ]
  },
  {
   "cell_type": "code",
   "execution_count": 18,
   "id": "667e2a90",
   "metadata": {},
   "outputs": [
    {
     "name": "stderr",
     "output_type": "stream",
     "text": [
      "[INFO] [1736314421.004351945] [robot_arm_controller]: Sent linear motion command to position: geometry_msgs.msg.Point(x=-0.4330799877643585, y=-0.048670001327991486, z=0.2012850046157837)\n"
     ]
    }
   ],
   "source": [
    "################ GO up from mid belt position ####################\n",
    "callib_pose = Pose()\n",
    "callib_pose.position.x = -0.4330799877643585 \n",
    "callib_pose.position.y = -0.048670001327991486\n",
    "callib_pose.position.z = 0.2012850046157837  \n",
    "# Define orientation correctly as a Quaternion\n",
    "#new_pose.orientation = Quaternion()\n",
    "callib_pose.orientation.x = 0.9998310208320618\n",
    "callib_pose.orientation.y = -0.010149000212550163\n",
    "callib_pose.orientation.z = 0.012520000338554382\n",
    "callib_pose.orientation.w = 0.00880299974232912\n",
    "\n",
    "# Send the linear motion command\n",
    "arm_controller.send_linear_motion(callib_pose, speed=100, block=True)\n",
    "\n"
   ]
  },
  {
   "cell_type": "code",
   "execution_count": 29,
   "id": "dd58460d",
   "metadata": {},
   "outputs": [
    {
     "name": "stderr",
     "output_type": "stream",
     "text": [
      "[INFO] [1736315038.673830789] [robot_arm_controller]: Sent linear motion command to position: geometry_msgs.msg.Point(x=-0.418300986289978, y=0.1383100003004074, z=0.25126200914382935)\n"
     ]
    }
   ],
   "source": [
    "################ Cup A dropping position ####################\n",
    "#x=-0.38308998942375183, y=-0.04865499958395958, z=0.20129099488258362\n",
    "#-0.418300986289978, y=0.1383100003004074, z=0.25126200914382935\n",
    "dropA_pose = Pose()\n",
    "dropA_pose.position.x = -0.418300986289978 #\n",
    "dropA_pose.position.y = 0.1383100003004074\n",
    "dropA_pose.position.z = 0.25126200914382935 \n",
    "# Define orientation correctly as a Quaternion\n",
    "#x=0.9998319745063782, y=-0.010112999938428402, z=0.012378999963402748, w=0.008905000053346157\n",
    "dropA_pose.orientation.x = 0.9998310208320618\n",
    "dropA_pose.orientation.y = -0.010149000212550163\n",
    "dropA_pose.orientation.z = 0.012520000338554382\n",
    "dropA_pose.orientation.w = 0.00880299974232912\n",
    "    # Send the linear motion command\n",
    "arm_controller.send_linear_motion(dropA_pose, speed=100, block=True)\n",
    "\n"
   ]
  },
  {
   "cell_type": "code",
   "execution_count": 20,
   "id": "bb12e4ad",
   "metadata": {},
   "outputs": [
    {
     "name": "stdout",
     "output_type": "stream",
     "text": [
      "Position 1000 Response: b'\\x01\\x06\\x01\\x03\\x03\\xe8x\\x88'\n"
     ]
    }
   ],
   "source": [
    "set_position(1000) # close 0(full close ) to 1000(full open)"
   ]
  },
  {
   "cell_type": "code",
   "execution_count": 30,
   "id": "0a906190",
   "metadata": {},
   "outputs": [
    {
     "name": "stderr",
     "output_type": "stream",
     "text": [
      "[INFO] [1736315042.209744140] [robot_arm_controller]: Sent linear motion command to position: geometry_msgs.msg.Point(x=-0.318300986289978, y=0.1383100003004074, z=0.25126200914382935)\n"
     ]
    }
   ],
   "source": [
    "################ Cup B dropping position ####################\n",
    "#x=-0.38308998942375183, y=-0.04865499958395958, z=0.20129099488258362\n",
    "#-0.418300986289978, y=0.1383100003004074, z=0.25126200914382935\n",
    "dropB_pose = Pose()\n",
    "dropB_pose.position.x = -0.318300986289978 # -418 from A >>> -318\n",
    "dropB_pose.position.y = 0.1383100003004074\n",
    "dropB_pose.position.z = 0.25126200914382935 \n",
    "# Define orientation correctly as a Quaternion\n",
    "#x=0.9998319745063782, y=-0.010112999938428402, z=0.012378999963402748, w=0.008905000053346157\n",
    "dropB_pose.orientation.x = 0.9998310208320618\n",
    "dropB_pose.orientation.y = -0.010149000212550163\n",
    "dropB_pose.orientation.z = 0.012520000338554382\n",
    "dropB_pose.orientation.w = 0.00880299974232912\n",
    "    # Send the linear motion command\n",
    "arm_controller.send_linear_motion(dropB_pose, speed=90, block=True)\n",
    "\n"
   ]
  },
  {
   "cell_type": "code",
   "execution_count": 31,
   "id": "f6312801",
   "metadata": {},
   "outputs": [
    {
     "name": "stderr",
     "output_type": "stream",
     "text": [
      "[INFO] [1736315046.108017789] [robot_arm_controller]: Sent linear motion command to position: geometry_msgs.msg.Point(x=-0.418300986289978, y=0.2383100003004074, z=0.25126200914382935)\n"
     ]
    }
   ],
   "source": [
    "################ Cup C dropping position ####################\n",
    "#x=-0.38308998942375183, y=-0.04865499958395958, z=0.20129099488258362\n",
    "#-0.418300986289978, y=0.1383100003004074, z=0.25126200914382935\n",
    "dropB_pose = Pose()\n",
    "dropB_pose.position.x = -0.418300986289978 #\n",
    "dropB_pose.position.y = 0.2383100003004074 # 13 from A >> 23 \n",
    "dropB_pose.position.z = 0.25126200914382935\n",
    "# Define orientation correctly as a Quaternion\n",
    "#x=0.9998319745063782, y=-0.010112999938428402, z=0.012378999963402748, w=0.008905000053346157\n",
    "dropB_pose.orientation.x = 0.9998310208320618\n",
    "dropB_pose.orientation.y = -0.010149000212550163\n",
    "dropB_pose.orientation.z = 0.012520000338554382\n",
    "dropB_pose.orientation.w = 0.00880299974232912\n",
    "    # Send the linear motion command\n",
    "arm_controller.send_linear_motion(dropB_pose, speed=90, block=True)\n",
    "\n"
   ]
  },
  {
   "cell_type": "code",
   "execution_count": 32,
   "id": "5d454a37",
   "metadata": {},
   "outputs": [
    {
     "name": "stderr",
     "output_type": "stream",
     "text": [
      "[INFO] [1736315050.326483610] [robot_arm_controller]: Sent linear motion command to position: geometry_msgs.msg.Point(x=-0.318300986289978, y=0.2383100003004074, z=0.25126200914382935)\n"
     ]
    }
   ],
   "source": [
    "################ Cup D dropping position ####################\n",
    "#x=-0.38308998942375183, y=-0.04865499958395958, z=0.20129099488258362\n",
    "#-0.418300986289978, y=0.1383100003004074, z=0.25126200914382935\n",
    "dropB_pose = Pose()\n",
    "dropB_pose.position.x = -0.318300986289978 # -418 from A >>> -318\n",
    "dropB_pose.position.y = 0.2383100003004074 # 13 from A >> 23\n",
    "dropB_pose.position.z = 0.25126200914382935 \n",
    "# Define orientation correctly as a Quaternion\n",
    "#x=0.9998319745063782, y=-0.010112999938428402, z=0.012378999963402748, w=0.008905000053346157\n",
    "dropB_pose.orientation.x = 0.9998310208320618\n",
    "dropB_pose.orientation.y = -0.010149000212550163\n",
    "dropB_pose.orientation.z = 0.012520000338554382\n",
    "dropB_pose.orientation.w = 0.00880299974232912\n",
    "    # Send the linear motion command\n",
    "arm_controller.send_linear_motion(dropB_pose, speed=90, block=True)\n",
    "\n"
   ]
  },
  {
   "cell_type": "code",
   "execution_count": 22,
   "id": "b017ca34",
   "metadata": {},
   "outputs": [
    {
     "name": "stdout",
     "output_type": "stream",
     "text": [
      "Position 1000 Response: b'\\x01\\x06\\x01\\x03\\x03\\xe8x\\x88'\n"
     ]
    }
   ],
   "source": [
    "set_position(1000) # close 0(full close ) to 1000(full open)"
   ]
  },
  {
   "cell_type": "code",
   "execution_count": null,
   "id": "261aa8e0",
   "metadata": {},
   "outputs": [],
   "source": [
    "#finally:\n",
    "\n",
    "arm_controller.destroy_node()\n",
    "belt_speed_subscriber.destroy_node()\n",
    "rclpy.shutdown()\n",
    "\n"
   ]
  },
  {
   "cell_type": "code",
   "execution_count": null,
   "id": "02b208ce",
   "metadata": {},
   "outputs": [],
   "source": [
    "'''# Define a new position for linear motion (move slightly in the Z direction)\n",
    "new_pose = Pose()\n",
    "new_pose.position.x = current_position.position.x + 0.05\n",
    "new_pose.position.y = current_position.position.y \n",
    "new_pose.position.z = current_position.position.z   # Move up by 5 cm\n",
    "new_pose.orientation = current_position.orientation\n",
    "\n",
    "    # Send the linear motion command\n",
    "    #arm_controller.send_linear_motion(new_pose, speed=20, block=True)\n",
    "\n",
    "#finally:\n",
    "arm_controller.destroy_node()\n",
    "rclpy.shutdown()'''\n",
    "\n"
   ]
  },
  {
   "cell_type": "code",
   "execution_count": null,
   "id": "0b809891",
   "metadata": {},
   "outputs": [],
   "source": [
    "'''# Main function to execute the script\n",
    "def main():\n",
    "    rclpy.init()\n",
    "\n",
    "    # Create the robot arm controller node\n",
    "    arm_controller = RobotArmController()\n",
    "\n",
    "    #try:\n",
    "        # Get the current position\n",
    "    current_position = arm_controller.get_current_position()\n",
    "    print(\"Current Position:\")\n",
    "    print(f\"x: {current_position.position.x}, y: {current_position.position.y}, z: {current_position.position.z}\")\n",
    "    print(f\"Orientation - x: {current_position.orientation.x}, y: {current_position.orientation.y}, \"\n",
    "            f\"z: {current_position.orientation.z}, w: {current_position.orientation.w}\")\n",
    "\n",
    "    # Define a new position for linear motion (move slightly in the Z direction)\n",
    "    new_pose = Pose()\n",
    "    new_pose.position.x = current_position.position.x\n",
    "    new_pose.position.y = current_position.position.y + 0.05\n",
    "    new_pose.position.z = current_position.position.z   # Move up by 5 cm\n",
    "    new_pose.orientation = current_position.orientation\n",
    "\n",
    "        # Send the linear motion command\n",
    "        #arm_controller.send_linear_motion(new_pose, speed=20, block=True)\n",
    "\n",
    "    #finally:\n",
    "    arm_controller.destroy_node()\n",
    "    rclpy.shutdown()\n",
    "\n",
    "if __name__ == '__main__':\n",
    "    main()'''"
   ]
  }
 ],
 "metadata": {
  "kernelspec": {
   "display_name": "usr",
   "language": "python",
   "name": "python3"
  },
  "language_info": {
   "codemirror_mode": {
    "name": "ipython",
    "version": 3
   },
   "file_extension": ".py",
   "mimetype": "text/x-python",
   "name": "python",
   "nbconvert_exporter": "python",
   "pygments_lexer": "ipython3",
   "version": "3.10.12"
  }
 },
 "nbformat": 4,
 "nbformat_minor": 5
}
